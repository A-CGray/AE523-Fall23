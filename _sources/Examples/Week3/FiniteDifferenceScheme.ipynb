{
 "cells": [
  {
   "cell_type": "markdown",
   "metadata": {},
   "source": [
    "# The Finite Difference Method: 1D steady state heat transfer\n",
    "\n",
    "These examples are based on code originally written by Krzysztof Fidkowski and adapted by Venkat Viswanathan. "
   ]
  },
  {
   "cell_type": "code",
   "execution_count": 134,
   "metadata": {},
   "outputs": [],
   "source": [
    "import jax\n",
    "import jax.numpy as jnp\n",
    "from jax import grad, jit\n",
    "from jax.config import config\n",
    "from jax.scipy.linalg import solve\n",
    "from scipy.optimize import minimize\n",
    "\n",
    "config.update(\"jax_enable_x64\", True)  # Enable 64-bit precision for better numerical stability\n",
    "\n",
    "import matplotlib.pyplot as plt\n",
    "import niceplots\n",
    "\n",
    "plt.style.use(niceplots.get_style())"
   ]
  },
  {
   "cell_type": "markdown",
   "metadata": {},
   "source": [
    "\n",
    "This code implements the example case from section 3.1.1 of the course notes.\n",
    "\n",
    "We will solve the steady state heat transfer equation in 1D:\n",
    "\n",
    "$$ -\\kappa\\frac{d^2T}{dx^2} = q(x) $$\n",
    "\n",
    "where $\\kappa$ is the thermal conductivity, $T$ is the temperature, $x$ is the position, and $q(x)$ is a heat source term, which in this case is $\\sin\\left(\\pi x /L\\right)$.\n"
   ]
  },
  {
   "cell_type": "code",
   "execution_count": 135,
   "metadata": {},
   "outputs": [],
   "source": [
    "# Define the symbolic function q(x)\n",
    "def q(x, L):\n",
    "    return jnp.sin(jnp.pi * x / L)"
   ]
  },
  {
   "cell_type": "markdown",
   "metadata": {},
   "source": [
    "\n",
    "The 1D domain spans $0 \\le x \\le L$ and is split into $N$ intervals of length $\\Delta x = L/N$, this gives $N+1$ nodes in the grid. The temperatures at the nodes are $T_0, T_1, \\ldots, T_N$. Dirichlet boundary conditions are applied at $x=0$ and $x=L$, such that $T_0 = 1$ and $T_N=4$."
   ]
  },
  {
   "cell_type": "markdown",
   "metadata": {},
   "source": [
    "![The finite-difference grid](../../images/FDDomain.svg)"
   ]
  },
  {
   "cell_type": "markdown",
   "metadata": {},
   "source": [
    "Using the central difference approximation for the second derivative, we can write the equation at each node as:\n",
    "\n",
    "$$ -\\kappa\\frac{T_{i-1} - 2T_i + T_{i+1}}{\\Delta x^2} = q(x_i) \\Rightarrow -T_{i-1} + 2T_i - T_{i+1} = \\frac{1}{\\kappa} \\Delta x^2 q(x_i)$$\n",
    "\n",
    "We will enforce this equation at all nodes except the boundary nodes, which have known temperatures. This gives $N-1$ equations for the $N+1$ unknown temperatures. At nodes $i=1$ and $i=N-1$, we have to rearrange the equation to account for the known temperature values that appear in the finite difference stencil:\n",
    "\n",
    "$$\\text{at } i=1, \\quad 2T_1 - T_2 = \\frac{1}{\\kappa} \\Delta x^2 q(x_i) + T_0$$\n",
    "$$\\text{at } i=N-1, \\quad -T_{N-2} + 2T_{N-1} = \\frac{1}{\\kappa} \\Delta x^2 q(x_i) + T_N$$\n",
    "\n",
    "Writing this all up in matrix-form we get:\n",
    "\n",
    "$$\\begin{bmatrix}\n",
    "2 & -1 & 0 & 0 & \\cdots & 0 \\\\\n",
    "-1 & 2 & -1 & 0 & \\cdots & 0 \\\\\n",
    "0 & -1 & 2 & -1 & \\cdots & 0 \\\\\n",
    "\\vdots & \\vdots & \\ddots & \\vdots & \\vdots & \\vdots \\\\\n",
    "0 & \\cdots & 0 & -1 & 2 & -1 \\\\\n",
    "0 & \\cdots & 0 & 0 & -1 & 2\n",
    "\\end{bmatrix}\n",
    "\\begin{bmatrix}\n",
    "T_1 \\\\ T_2 \\\\ T_3 \\\\ \\vdots \\\\ T_{N-1}\n",
    "\\end{bmatrix}\n",
    "= \n",
    "\\begin{bmatrix}\n",
    "q(x_1) \\Delta x^2 / \\kappa + T_0 \\\\ q(x_2) \\Delta x^2 / \\kappa \\\\ q(x_3) \\Delta x^2 / \\kappa \\\\ \\vdots \\\\ q(x_{N-1}) \\Delta x^2 / \\kappa + T_N\n",
    "\\end{bmatrix}\n",
    "$$\n",
    "\n",
    "Alternatively, we can keep the boundary nodes in the matrix equation, and enforce the boundary conditions using the first and last rows of the matrix:\n",
    "\n",
    "$$\\begin{bmatrix}\n",
    "1 & 0 & 0 & 0 & \\cdots & 0 \\\\\n",
    "-1 & 2 & -1 & 0 & \\cdots & 0 \\\\\n",
    "0 & -1 & 2 & -1 & \\cdots & 0 \\\\\n",
    "\\vdots & \\vdots & \\vdots & \\ddots & \\vdots & \\vdots \\\\\n",
    "0 & \\cdots & 0 & -1 & 2 & -1 \\\\\n",
    "0 & \\cdots & 0 & 0 & 0 & 1\n",
    "\\end{bmatrix}\n",
    "\\begin{bmatrix}\n",
    "T_0 \\\\ T_1 \\\\ T_2 \\\\ \\vdots \\\\ T_{N-1} \\\\ T_{N}\n",
    "\\end{bmatrix}\n",
    "= \n",
    "\\begin{bmatrix}\n",
    "T_0 \\\\ q(x_1)\\Delta x^2 / \\kappa \\\\ q(x_2)\\Delta x^2 / \\kappa \\\\ \\vdots \\\\ q(x_{N-1})\\Delta x^2 / \\kappa \\\\ T_N)\n",
    "\\end{bmatrix}\n",
    "$$\n",
    "\n",
    "The code below implements the second approach, and solves the matrix equation using a direct sparse linear solver."
   ]
  },
  {
   "cell_type": "code",
   "execution_count": 136,
   "metadata": {},
   "outputs": [],
   "source": [
    "def heat_conduction(T_left=1.0, T_right=4.0, L=2.0, kappa=0.5, Nx=10):\n",
    "    \"\"\"Setup and solve the heat conduction problem using the finite difference method\n",
    "\n",
    "    Parameters\n",
    "    ----------\n",
    "    T_left : float, optional\n",
    "        Left boundary temperature, by default 1.0\n",
    "    T_right : float, optional\n",
    "        Right boundary temperature, by default 4.0\n",
    "    L : float, optional\n",
    "        Length of domain, by default 2.0\n",
    "    kappa : float, optional\n",
    "        Thermal conductivity, by default 0.5\n",
    "    Nx : int, optional\n",
    "        Number of intervals, by default 10\n",
    "\n",
    "    Returns\n",
    "    -------\n",
    "    array\n",
    "        Nodal temperature values\n",
    "    array\n",
    "        Nodal x coordinates\n",
    "    \"\"\"\n",
    "    # Define the parameters\n",
    "    dx = L / Nx  # Grid spacing\n",
    "\n",
    "    # Create the matrix A (tridiagonal with 2 on the diagonal and -1 on the off-diagonals)\n",
    "    diagonal = 2.0 * jnp.ones(Nx - 1)\n",
    "    off_diagonal = -jnp.ones(Nx - 2)\n",
    "    A = jnp.diag(diagonal) + jnp.diag(off_diagonal, k=1) + jnp.diag(off_diagonal, k=-1)\n",
    "\n",
    "    # Add the Boundary conditions\n",
    "    A = jnp.vstack((A, jnp.zeros(Nx - 1)))\n",
    "    A = jnp.vstack((jnp.zeros(Nx - 1), A))\n",
    "    A = jnp.column_stack([jnp.zeros(A.shape[0]), A])\n",
    "    A = jnp.column_stack([A, jnp.zeros(A.shape[0])])\n",
    "    A = A.at[(0, 0)].set(1.0)\n",
    "    A = A.at[(-1, -1)].set(1.0)  # Set the bottom-right diagonal element to 1\n",
    "    A = A.at[(1, 0)].set(-1.0)\n",
    "    A = A.at[(-2, -1)].set(-1.0)  # Set the bottom-right diagonal element to 1\n",
    "\n",
    "    # Create the vector representing the heat source (modify q(x) as needed)\n",
    "    x_values = jnp.linspace(0, L, Nx + 1)\n",
    "    b = jnp.zeros(Nx + 1)\n",
    "    b = b.at[1:Nx].set(q(x_values[1:Nx], L) / kappa * dx**2)\n",
    "\n",
    "    # Define boundary conditions (e.g., fixed temperature at both ends)\n",
    "    T_left = 1.0\n",
    "    T_right = 4.0\n",
    "    b = b.at[0].set(T_left)\n",
    "    b = b.at[-1].set(T_right)\n",
    "\n",
    "    T = solve(A, b)\n",
    "    return T, x_values"
   ]
  },
  {
   "cell_type": "markdown",
   "metadata": {},
   "source": [
    "Now let's solve the system for $N=3$ and plot the results compared to the analytical solution:\n",
    "\n",
    "$$T_\\text{exact} (x) = \\frac{L^2}{\\kappa \\pi^2}\\sin\\left(\\frac{\\pi x}{L}\\right) + T_0 + \\frac{x}{L}\\left(T_N - T_0\\right)$$"
   ]
  },
  {
   "cell_type": "code",
   "execution_count": 137,
   "metadata": {},
   "outputs": [
    {
     "data": {
      "image/png": "[encoded data removed]",
      "text/plain": [
       "<Figure size 640x480 with 1 Axes>"
      ]
     },
     "metadata": {},
     "output_type": "display_data"
    }
   ],
   "source": [
    "# Define the true solution\n",
    "def true_solution(x, L, kappa, T_left, T_right):\n",
    "    return L**2 / (jnp.pi**2 * kappa) * jnp.sin(jnp.pi * x / L) + T_left + (T_right - T_left) * x / L\n",
    "\n",
    "\n",
    "# Define the parameters\n",
    "L = 2.0  # Length of domain\n",
    "kappa = 0.5  # Thermal conductivity\n",
    "Nx = 3  # Number of intervals\n",
    "T0 = 1.0  # Left boundary condition\n",
    "TN = 4.0  # Right boundary condition\n",
    "\n",
    "# Solve the finite difference problem\n",
    "T_soln, x_vals = heat_conduction(T0, TN, L, kappa, Nx)\n",
    "\n",
    "# Plot the results against the true solution\n",
    "fig, ax = plt.subplots()\n",
    "xTrue = jnp.linspace(0, 2.0, 100)\n",
    "ax.plot(xTrue, true_solution(xTrue, L, kappa, T0, TN), \"-\", clip_on=False, label=\"True solution\")\n",
    "ax.plot(x_vals, T_soln, \"-o\", clip_on=False, label=\"FD solution\")\n",
    "ax.set_xlabel(\"$x$\")\n",
    "ax.set_xticks([0, L])\n",
    "ax.set_ylabel(\"$T$\")\n",
    "ax.set_yticks([T0, TN])\n",
    "ax.legend(labelcolor=\"linecolor\", loc=\"lower right\")\n",
    "niceplots.adjust_spines(ax)\n",
    "plt.show()"
   ]
  },
  {
   "cell_type": "markdown",
   "metadata": {},
   "source": [
    "Even with only 3 intervals, the solution is already quite close to the exact solution."
   ]
  },
  {
   "cell_type": "markdown",
   "metadata": {},
   "source": [
    "## Convergence study\n",
    "\n",
    "Since we are using a second-order accurate approximation of $\\frac{d^2T}{dx^2}$, we expect the error to be proportional to $\\Delta x^2$. Let's verify this by solving the system for a range of values of $N$ and plotting the error as a function of $\\Delta x$.\n",
    "\n",
    "The error is computed using the $L_2$ norm as given in chapter 1 of the course notes:\n",
    "\n",
    "$$\\text{Error} = \\sqrt{\\frac{1}{N+1}\\sum_0^{N}\\left(T_i - T_\\text{exact}(x_i)\\right)^2}$$\n",
    "\n",
    "This is not equivalent to the typical $L_2$ computed by numpy/JAX, which do not normalize by the number of elements, and would therefore give the wrong order of convergence."
   ]
  },
  {
   "cell_type": "code",
   "execution_count": 138,
   "metadata": {},
   "outputs": [
    {
     "data": {
      "image/png": "[encoded data removed]",
      "text/plain": [
       "<Figure size 640x480 with 1 Axes>"
      ]
     },
     "metadata": {},
     "output_type": "display_data"
    }
   ],
   "source": [
    "Nsweep = 2 ** jnp.arange(1, 8)\n",
    "errors = []\n",
    "\n",
    "for Nx in Nsweep:\n",
    "    T_soln, x_vals = heat_conduction(T0, TN, L, kappa, Nx)\n",
    "    error = jnp.sqrt(1 / (Nx + 1) * jnp.sum((T_soln - true_solution(x_vals, L, kappa, T0, TN)) ** 2))\n",
    "    errors.append(error)\n",
    "\n",
    "fig, ax = plt.subplots()\n",
    "ax.set_xlabel(\"$\\Delta x$\")\n",
    "ax.set_ylabel(r\"$||T_{FD} - T_{true}||_2$\")\n",
    "ax.set_xscale(\"log\")\n",
    "ax.set_yscale(\"log\")\n",
    "\n",
    "ax.plot(L / Nsweep, errors, \"-o\", clip_on=False)\n",
    "\n",
    "# Compute the convergence rate by fitting a line to the log-log plot\n",
    "rate = jnp.polyfit(jnp.log(L / Nsweep), jnp.log(jnp.array(errors)), 1)[0]\n",
    "\n",
    "ax.annotate(f\"Convergence rate: {float(rate):.2f}\", xy=(L / Nsweep[4], errors[5]), ha=\"left\", va=\"top\")\n",
    "\n",
    "niceplots.adjust_spines(ax)"
   ]
  },
  {
   "cell_type": "markdown",
   "metadata": {},
   "source": [
    "## Learning thermal conductivity from measurement data\n",
    "\n",
    "Now we will leverage the power of JAX to solve an inverse problem: given some measured temperatures, we will try to find the value of the thermal conductivity that best matches the data.\n",
    "\n",
    "In this case, we will generate our \"experimental data\" by running the FD code with a given value of $\\kappa$, this way we can tell if our learning process has been successful."
   ]
  },
  {
   "cell_type": "code",
   "execution_count": 139,
   "metadata": {},
   "outputs": [],
   "source": [
    "Nx = 10\n",
    "measured_temps, measurement_locations = heat_conduction(T0, TN, L, 0.5, Nx)\n"
   ]
  },
  {
   "cell_type": "markdown",
   "metadata": {},
   "source": [
    "Next we define our \"loss\" or \"objective\" function, this is the function that we will try to minimize. In this case, we will use the $L_2$ norm of the difference between the measured temperatures and the temperatures computed by the FD code. We will also use JAX to create a function that computes $\\frac{df}{d\\kappa}$."
   ]
  },
  {
   "cell_type": "code",
   "execution_count": 140,
   "metadata": {},
   "outputs": [],
   "source": [
    "def obj_function(kappa):\n",
    "    predicted_temps = heat_conduction(T0, TN, L, kappa, Nx)[0]\n",
    "    error = jnp.linalg.norm(predicted_temps - measured_temps)\n",
    "    # Print the current kappa and error, the try/except block is so that the printing is skipped when JAX AD's this function\n",
    "    try:\n",
    "        print(f\"kappa = {float(kappa[0]): .7e}, error = {float(error): .7e}\")\n",
    "    except TypeError:\n",
    "        pass\n",
    "    return error\n",
    "\n",
    "obj_grad = grad(obj_function)"
   ]
  },
  {
   "cell_type": "markdown",
   "metadata": {},
   "source": [
    "Now we will use an algorithm called an optimizer to find the value of $\\kappa$ that minimizes the objective function. For problems where we expect the objective function to be smooth, gradient-based optimizers are the most efficient methods. Here we use an optimizer provided by JAX which will use the gradient information computed by JAX's AD to find the minimum."
   ]
  },
  {
   "cell_type": "code",
   "execution_count": 142,
   "metadata": {},
   "outputs": [
    {
     "name": "stdout",
     "output_type": "stream",
     "text": [
      "kappa =  2.3498224e+00, error =  1.4386167e+00\n",
      "kappa =  2.1843406e+00, error =  1.4091580e+00\n",
      "kappa =  1.2268172e+00, error =  1.0826684e+00\n",
      "kappa = -1.3950688e+01, error =  1.8929669e+00\n",
      "kappa = -5.7485267e+00, error =  1.9864205e+00\n",
      "kappa = -1.6474461e+00, error =  2.3821065e+00\n",
      "kappa =  4.0309418e-01, error =  4.3933260e-01\n",
      "kappa =  1.1465550e+00, error =  1.0305301e+00\n",
      "kappa =  7.2877184e-01, error =  5.7366863e-01\n",
      "kappa =  5.5480509e-01, error =  1.8052217e-01\n",
      "kappa =  5.0238946e-01, error =  8.6917907e-03\n",
      "kappa =  1.8277191e-01, error =  3.1718475e+00\n",
      "kappa =  4.5958774e-01, error =  1.6069220e-01\n",
      "kappa =  4.9158610e-01, error =  3.1278644e-02\n",
      "kappa =  4.9896527e-01, error =  3.7897058e-03\n",
      "kappa =  5.0068908e-01, error =  2.5150622e-03\n",
      "kappa =  4.9983015e-01, error =  6.2101403e-04\n",
      "kappa =  5.0026035e-01, error =  9.5106246e-04\n",
      "kappa =  5.0000795e-01, error =  2.9059218e-05\n",
      "kappa =  4.9991908e-01, error =  2.9580400e-04\n",
      "kappa =  4.9998355e-01, error =  6.0116422e-05\n",
      "kappa =  4.9999890e-01, error =  4.0097427e-06\n",
      "kappa =  5.0000343e-01, error =  1.2525187e-05\n",
      "kappa =  5.0000040e-01, error =  1.4473893e-06\n",
      "kappa =  4.9999965e-01, error =  1.2811645e-06\n",
      "kappa =  5.0000000e-01, error =  5.3908343e-09\n",
      "\n",
      "SUCCES: My best guess at kappa is 5.0000000e-01\n"
     ]
    }
   ],
   "source": [
    "sol = minimize(obj_function, 2.349822365, jac=obj_grad, method=\"SLSQP\", tol=1e-6)\n",
    "\n",
    "if sol.success:\n",
    "    print(f\"\\nSUCCEsS: My best guess at kappa is {sol.x[0]:.7e}\")\n",
    "else:\n",
    "    print(\"\\nFAILURE: Optimization did not converge\")"
   ]
  },
  {
   "cell_type": "code",
   "execution_count": null,
   "metadata": {},
   "outputs": [],
   "source": []
  }
 ],
 "metadata": {
  "kernelspec": {
   "display_name": "AE523",
   "language": "python",
   "name": "python3"
  },
  "language_info": {
   "codemirror_mode": {
    "name": "ipython",
    "version": 3
   },
   "file_extension": ".py",
   "mimetype": "text/x-python",
   "name": "python",
   "nbconvert_exporter": "python",
   "pygments_lexer": "ipython3",
   "version": "3.11.4"
  },
  "orig_nbformat": 4
 },
 "nbformat": 4,
 "nbformat_minor": 2
}
