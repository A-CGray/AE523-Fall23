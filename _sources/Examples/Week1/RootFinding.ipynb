{
 "cells": [
  {
   "cell_type": "markdown",
   "metadata": {},
   "source": [
    "# Root finding methods"
   ]
  },
  {
   "cell_type": "code",
   "execution_count": 1,
   "metadata": {},
   "outputs": [],
   "source": [
    "# Import JAX for math stuff and automatic differentiation\n",
    "import jax\n",
    "import jax.numpy as jnp\n",
    "from jax import config\n",
    "\n",
    "config.update(\n",
    "    \"jax_enable_x64\", True\n",
    ")  # JAX uses single precision numbers by default, here we change that to double precision\n",
    "\n",
    "# Import matplotlib and niceplots for plotting\n",
    "import matplotlib.pyplot as plt\n",
    "import niceplots"
   ]
  },
  {
   "cell_type": "markdown",
   "metadata": {},
   "source": [
    "Root finding methods are used to find the roots of a function, that is they find the value(s) of $x$ that make $f(x)=0$. This notebook contains some simple code that implements two simple 1D root finding methods for scalar functions."
   ]
  },
  {
   "cell_type": "markdown",
   "metadata": {
    "id": "nIsUjE14aTEO"
   },
   "source": [
    "## Bisection"
   ]
  },
  {
   "cell_type": "markdown",
   "metadata": {},
   "source": [
    "In the bisection method, we start with two points, $a$ and $b$ such that $f(a)$ and $f(b)$ have opposite signs. If this is the case (and we know $f$ is continuous) then we know there must be a root between $a$ and $b$.\n",
    "We start the bisection method by setting $a$ and $b$ as our lower and upper bounds $x_L, x_U$ of our search space. Then, each iteration, we evaluate $f$ at the midpoint of the space $x_M = 1/2(x_L + x_U)$. Depending on the sign of $f(x_M)$, we set either $x_L$ or $x_U$ to $x_M$ to half the size of our search space. This is repeated until $f(x_M)$ is as close to zero as we need.\n",
    "\n",
    "The code below contains a function that implements the bisection method."
   ]
  },
  {
   "cell_type": "code",
   "execution_count": 2,
   "metadata": {
    "colab": {
     "base_uri": "https://localhost:8080/"
    },
    "id": "bEnOxhbFaZCQ",
    "outputId": "bcc247f1-95fb-43e2-e1eb-ec145bce03bd"
   },
   "outputs": [],
   "source": [
    "def bisection(f, a, b, tol=1e-6, max_iterations=100):\n",
    "    # First, check that a and b do actually bracket a root\n",
    "    fa = f(a)\n",
    "    fb = f(b)\n",
    "    f_history = []\n",
    "\n",
    "    if fa * fb > 0:\n",
    "        raise ValueError(\"Initial interval does not bracket a root.\")\n",
    "\n",
    "    for i in range(max_iterations):\n",
    "        c = (a + b) / 2\n",
    "        fc = f(c)\n",
    "        f_history.append(abs(float(fc)))\n",
    "\n",
    "        print(f\"Iteration {i:02d}: x = {c: 7.3e}, f(x) = {fc: 7.3e}\")\n",
    "\n",
    "        if jnp.abs(fc) < tol:\n",
    "            return c, f_history\n",
    "\n",
    "        if fa * fc < 0:\n",
    "            b = c\n",
    "            fb = fc\n",
    "        else:\n",
    "            a = c\n",
    "            fa = fc\n",
    "\n",
    "    return None, f_history  # Return None as the root if the root was not found within max_iterations"
   ]
  },
  {
   "cell_type": "markdown",
   "metadata": {},
   "source": [
    "Now let's try it out on a simple function, $f(x) = e^x - 1$, which has a root at $x=0$."
   ]
  },
  {
   "cell_type": "code",
   "execution_count": 3,
   "metadata": {},
   "outputs": [
    {
     "name": "stderr",
     "output_type": "stream",
     "text": [
      "No GPU/TPU found, falling back to CPU. (Set TF_CPP_MIN_LOG_LEVEL=0 and rerun for more info.)\n"
     ]
    },
    {
     "name": "stdout",
     "output_type": "stream",
     "text": [
      "Iteration 00: x =  5.000e-01, f(x) =  6.487e-01\n",
      "Iteration 01: x = -2.500e-01, f(x) = -2.212e-01\n",
      "Iteration 02: x =  1.250e-01, f(x) =  1.331e-01\n",
      "Iteration 03: x = -6.250e-02, f(x) = -6.059e-02\n",
      "Iteration 04: x =  3.125e-02, f(x) =  3.174e-02\n",
      "Iteration 05: x = -1.562e-02, f(x) = -1.550e-02\n",
      "Iteration 06: x =  7.812e-03, f(x) =  7.843e-03\n",
      "Iteration 07: x = -3.906e-03, f(x) = -3.899e-03\n",
      "Iteration 08: x =  1.953e-03, f(x) =  1.955e-03\n",
      "Iteration 09: x = -9.766e-04, f(x) = -9.761e-04\n",
      "Iteration 10: x =  4.883e-04, f(x) =  4.884e-04\n",
      "Iteration 11: x = -2.441e-04, f(x) = -2.441e-04\n",
      "Iteration 12: x =  1.221e-04, f(x) =  1.221e-04\n",
      "Iteration 13: x = -6.104e-05, f(x) = -6.103e-05\n",
      "Iteration 14: x =  3.052e-05, f(x) =  3.052e-05\n",
      "Iteration 15: x = -1.526e-05, f(x) = -1.526e-05\n",
      "Iteration 16: x =  7.629e-06, f(x) =  7.629e-06\n",
      "Iteration 17: x = -3.815e-06, f(x) = -3.815e-06\n",
      "Iteration 18: x =  1.907e-06, f(x) =  1.907e-06\n",
      "Iteration 19: x = -9.537e-07, f(x) = -9.537e-07\n",
      "Root found: -9.5367431640625e-07\n"
     ]
    }
   ],
   "source": [
    "# Define the function to find the root of f = e^x - 1,\n",
    "def func(x):\n",
    "    return jnp.exp(x) - 1\n",
    "\n",
    "\n",
    "# Initial interval\n",
    "a = -1\n",
    "b = 2\n",
    "\n",
    "root, bisect_history = bisection(func, a, b)\n",
    "if root is not None:\n",
    "    print(\"Root found:\", root)\n",
    "else:\n",
    "    print(\"Root not found within max_iterations\")"
   ]
  },
  {
   "cell_type": "markdown",
   "metadata": {
    "id": "ljrGN84EYD7M"
   },
   "source": [
    "## Newton-Raphson method"
   ]
  },
  {
   "cell_type": "markdown",
   "metadata": {},
   "source": [
    "The Newton-Raphson (or even [Newton-Raphson-Simpson](https://en.wikipedia.org/wiki/Newton%27s_method#History)) method can accelerate the root finding process by not just using $f(x)$ but also it's derivative $\\frac{df}{dx}$.\n",
    "\n",
    "The method starts with an initial guess $x = x_0$, where $f(x_0) \\neq 0$. Using the derivative, we can write a linear approximation of $f$ that is accurate near $x$:\n",
    "\n",
    "$$f(x) \\approx f(x_0) + (x - x_0) \\frac{df}{dx}$$\n",
    "\n",
    "As long as $df/dx \\neq 0$, this linear approximation of $f$ is guaranteed to have a root, which we can use as our next guess $x_1$:\n",
    "\n",
    "$$x_1 = x_0 - \\frac{f(x_0)}{df/dx}$$\n",
    "\n",
    "Again, this process is repeated until $f(x_n)$ is as close to zero as we need.\n",
    "\n",
    "The code below implements the Newton-Raphson method and then uses it to find the same root we did above. Note that in this example we use JAX to automatically calculate $df/dx$ for us so we don't have to do any manual differentiation."
   ]
  },
  {
   "cell_type": "code",
   "execution_count": 4,
   "metadata": {
    "colab": {
     "base_uri": "https://localhost:8080/"
    },
    "id": "alDOzs6vYOCE",
    "outputId": "16ba9eed-a377-4a04-ba18-d98d99e5755f"
   },
   "outputs": [
    {
     "name": "stdout",
     "output_type": "stream",
     "text": [
      "Iteration 00: x =  1.000e+00, f(x) =  1.718e+00\n",
      "Iteration 01: x =  3.679e-01, f(x) =  4.447e-01\n",
      "Iteration 02: x =  6.008e-02, f(x) =  6.192e-02\n",
      "Iteration 03: x =  1.769e-03, f(x) =  1.771e-03\n",
      "Iteration 04: x =  1.564e-06, f(x) =  1.564e-06\n",
      "Iteration 05: x =  1.223e-12, f(x) =  1.223e-12\n",
      "Root found: 1.2233215659894107e-12\n"
     ]
    }
   ],
   "source": [
    "def newton_raphson(f, x0, tol=1e-6, max_iterations=100):\n",
    "    x = x0\n",
    "    f_history = []\n",
    "    for i in range(max_iterations):\n",
    "        f_val = f(x)\n",
    "        f_history.append(abs(float(f_val)))\n",
    "        print(f\"Iteration {i:02d}: x = {x: 7.3e}, f(x) = {f_val: 7.3e}\")\n",
    "\n",
    "        # If f(x) is close enough to zero, we are done\n",
    "        if jnp.abs(f_val) < tol:\n",
    "            return x_new, f_history\n",
    "        f_prime_val = jax.grad(f)(x)\n",
    "\n",
    "        # Otherwise, take a Newton-Raphson step\n",
    "        x_new = x - f_val / f_prime_val\n",
    "        x = x_new\n",
    "\n",
    "    return None, f_history  # Return None if the root was not found within max_iterations\n",
    "\n",
    "\n",
    "# Initial guess\n",
    "x0 = 1.0\n",
    "\n",
    "root, newton_history = newton_raphson(func, x0)\n",
    "if root is not None:\n",
    "    print(\"Root found:\", root)\n",
    "else:\n",
    "    print(\"Root not found within max_iterations\")"
   ]
  },
  {
   "cell_type": "markdown",
   "metadata": {},
   "source": [
    "Now let's plot the value of $f(x)$ from the iterations of each method to see how quickly they converge to the root."
   ]
  },
  {
   "cell_type": "code",
   "execution_count": 5,
   "metadata": {},
   "outputs": [
    {
     "data": {
      "image/png": "[encoded data removed]",
      "text/plain": [
       "<Figure size 640x480 with 1 Axes>"
      ]
     },
     "metadata": {},
     "output_type": "display_data"
    }
   ],
   "source": [
    "plt.style.use(niceplots.get_style())\n",
    "\n",
    "fig, ax = plt.subplots()\n",
    "ax.set_xlabel(\"Iteration\")\n",
    "ax.set_ylabel(\"abs(f(x))\", rotation=\"horizontal\", ha=\"right\")\n",
    "\n",
    "# Convergence plots like this look better when the y-axis is logarithmic\n",
    "ax.set_yscale(\"log\")\n",
    "\n",
    "ax.plot(bisect_history, \"-o\", label=\"Bisection\", clip_on=False)\n",
    "ax.plot(newton_history, \"-o\", label=\"Newton-Raphson\", clip_on=False)\n",
    "\n",
    "# Plot a horizontal line at the tolerance\n",
    "ax.axhline(1e-6, color=\"k\", linestyle=\"--\", label=\"Tolerance\")\n",
    "ax.legend(labelcolor=\"linecolor\")\n",
    "niceplots.adjust_spines(ax)\n",
    "plt.show()"
   ]
  },
  {
   "cell_type": "markdown",
   "metadata": {},
   "source": [
    "The Newton-Raphson method found the root in far fewer iterations than the Bisection method, even though it's first guess was further from the root. Additionally, we didn't have to find the initial bounds for the search space, which can be difficult in general. Some of the disadvantages of the Newton-Raphson method are\n",
    "\n",
    "- It requires the derivative of $f$ to be known, which can be difficult to calculate.\n",
    "- It' not guaranteed to converge, depending on the initial guess and the behaviour of $f$ it can even diverge! See the \"What can go wrong\" section on [this page](https://amsi.org.au/ESA_Senior_Years/SeniorTopic3/3j/3j_2content_2.html) for some examples."
   ]
  },
  {
   "cell_type": "markdown",
   "metadata": {},
   "source": [
    "## Multidimensional Newton-Raphson\n",
    "\n",
    "Another advantage of Newton-Raphson is that it can be extended to multidimensional root finding problems. In this case, a few small changes are made:\n",
    "\n",
    "1. We typically replace $x$ and $f$ with the state vector $\\mathbf{u}$ and the residual vector $\\mathbf{r}$. Both are vectors of length $N$ (or in math-speak $\\mathbf{u}, \\mathbf{r} \\in \\mathbb{R}^N$) and we are looking for the values of $\\mathbf{u}$ that make all the entries in $\\mathbf{r}$ zero. A good example might be a CFD solver, where the state is the vector of the velocities/pressures/temperatures in all the cells, and the residual is a measure of the error in the discretised flow equations in each cell.\n",
    "2. $\\mathbf{dr/du}$ is now an $N \\times N$ matrix ($\\mathbf{dr/du} \\in \\mathbb{R}^{N \\times N}$) and we can't divide by a matrix. So the equation for updating the state becomes $\\mathbf{u_{i+1}} = \\mathbf{u_i} - \\mathbf{dr/du}^{-1}\\mathbf{r(u_i)}$ [^ref]\n",
    "3. Since we are now dealing with multiple values that we want all to be (close to) zero, we need a way to measure how close we are to the root. We can do this using the norm of the residual vector, different types of vector norms are covered in section 1.3 of the course notes\n",
    "\n",
    "More details on the multi-dimensional Newton-Raphson method can be found in section 1.7 of the course notes."
   ]
  },
  {
   "cell_type": "markdown",
   "metadata": {},
   "source": [
    "\n",
    "[^ref]: Whenever you see an equation in the form $\\mathbf{x} = \\mathbf{A}^{-1}\\mathbf{b}$, where $\\mathbf{A}$ is a big matrix, you should know that in practice you shouldn't actually compute the inverse of $\\mathbf{A}$! Instead, you should use a linear solution method (some of which are covered in this course) to solve the equation $\\mathbf{A}\\mathbf{x} = \\mathbf{b}$ for the $\\mathbf{x}$ vector."
   ]
  }
 ],
 "metadata": {
  "colab": {
   "provenance": []
  },
  "kernelspec": {
   "display_name": "Python 3",
   "name": "python3"
  },
  "language_info": {
   "codemirror_mode": {
    "name": "ipython",
    "version": 3
   },
   "file_extension": ".py",
   "mimetype": "text/x-python",
   "name": "python",
   "nbconvert_exporter": "python",
   "pygments_lexer": "ipython3",
   "version": "3.11.3"
  }
 },
 "nbformat": 4,
 "nbformat_minor": 0
}
