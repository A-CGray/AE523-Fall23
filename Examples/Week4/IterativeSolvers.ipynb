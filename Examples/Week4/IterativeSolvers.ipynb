{
 "cells": [
  {
   "cell_type": "markdown",
   "metadata": {},
   "source": [
    "# Iterative linear solvers"
   ]
  },
  {
   "cell_type": "code",
   "execution_count": 1,
   "metadata": {},
   "outputs": [],
   "source": [
    "import numpy as np\n",
    "import jax\n",
    "import jax.numpy as jnp\n",
    "from jax import config\n",
    "\n",
    "config.update(\"jax_enable_x64\", True)\n",
    "\n",
    "import matplotlib.pyplot as plt\n",
    "import niceplots\n",
    "\n",
    "plt.style.use(niceplots.get_style())\n",
    "niceColors = niceplots.get_colors_list()\n",
    "\n",
    "# Force the jupyter notebook to use vector graphics\n",
    "import matplotlib_inline\n",
    "\n",
    "matplotlib_inline.backend_inline.set_matplotlib_formats(\"pdf\", \"svg\")"
   ]
  },
  {
   "cell_type": "code",
   "execution_count": 2,
   "metadata": {},
   "outputs": [],
   "source": [
    "# Define the symbolic function q(x)\n",
    "def q(x, L):\n",
    "    return jnp.sin(jnp.pi * x / L)"
   ]
  },
  {
   "cell_type": "markdown",
   "metadata": {},
   "source": [
    "## Problem definition\n",
    "\n",
    "In this example we'll be solving the same 1D heat transfer equation as [last week's example](../Week3/FiniteDifferenceScheme.ipynb)\n",
    "\n",
    "The 1D domain spans $0 \\le x \\le L$ and is split into $N$ intervals of length $\\Delta x = L/N$, this gives $N+1$ nodes in the grid. The temperatures at the nodes are $T_0, T_1, \\ldots, T_N$. Dirichlet boundary conditions are applied at $x=0$ and $x=L$, such that $T_0 = 1$ and $T_N=4$.\n",
    "\n",
    "![The finite-difference grid](../../images/FDDomain.svg)"
   ]
  },
  {
   "cell_type": "markdown",
   "metadata": {},
   "source": [
    "Using the central difference approximation for the second derivative, we wrote the finite difference equation at each node as:\n",
    "\n",
    "$$ -\\kappa\\frac{T_{i-1} - 2T_i + T_{i+1}}{\\Delta x^2} = q(x_i) \\Rightarrow -T_{i-1} + 2T_i - T_{i+1} = \\frac{1}{\\kappa} \\Delta x^2 q(x_i)$$\n",
    "\n",
    "From this equation we can derive the residual at each node as:\n",
    "\n",
    "$$ r_i = \\kappa\\left(-T_{i-1} + 2T_i - T_{i+1}\\right) - \\Delta x^2 q(x_i)$$\n",
    "\n",
    "The residual is the quantity that must be zero at the solution, so we can use it as a measure of the error in our solution.\n",
    "Note that this is a different kind of error than we have discussed previously, it is not the error relative to the true solution of the PDE, but the error relative to the solution of the discretized system of equations we have created with our finite difference approximation."
   ]
  },
  {
   "cell_type": "code",
   "execution_count": 5,
   "metadata": {},
   "outputs": [
    {
     "name": "stdout",
     "output_type": "stream",
     "text": [
      "Residual norm: 8.94e-02\n"
     ]
    }
   ],
   "source": [
    "def computeResidual(u, q, kappa, dx):\n",
    "    \"\"\"Compute the residual of the 1D heat equation\n",
    "\n",
    "    _extended_summary_\n",
    "\n",
    "    Parameters\n",
    "    ----------\n",
    "    u : jax.numpy.ndarray\n",
    "        Current state vector\n",
    "    q : jax.numpy.ndarray\n",
    "        Source term vector\n",
    "    kappa : float\n",
    "        Thermal conductivity\n",
    "    dx : float\n",
    "        Grid spacing\n",
    "\n",
    "    Returns\n",
    "    -------\n",
    "    jax.numpy.ndarray\n",
    "        Residual vector\n",
    "    \"\"\"\n",
    "    dx2 = dx**2\n",
    "    r = jnp.zeros_like(u)\n",
    "    for ii in range(1, len(x) - 1):\n",
    "        r = r.at[ii].set(kappa * (u[ii - 1] - 2 * u[ii] + u[ii + 1]) - dx2 * q[ii])\n",
    "\n",
    "    return r\n",
    "\n",
    "\n",
    "def computeNorm(r):\n",
    "    \"\"\"Compute the \"normalized\" norm of a vector\n",
    "\n",
    "    Parameters\n",
    "    ----------\n",
    "    r : jax.numpy.ndarray\n",
    "        Vector to compute the norm of\n",
    "    \"\"\"\n",
    "    return jnp.linalg.norm(r) / jnp.sqrt(len(r))"
   ]
  },
  {
   "cell_type": "markdown",
   "metadata": {},
   "source": [
    "Let's compute the residual for an initial guess at the solution, we'll generate the initial guess by linearly interpolating between the boundary conditions:"
   ]
  },
  {
   "cell_type": "code",
   "execution_count": 6,
   "metadata": {},
   "outputs": [
    {
     "name": "stdout",
     "output_type": "stream",
     "text": [
      "Residual norm: 8.94e-02\n"
     ]
    }
   ],
   "source": [
    "# Define the parameters\n",
    "L = 2.0  # Length of domain\n",
    "kappa = 0.5  # Thermal conductivity\n",
    "Nx = 10  # Number of intervals\n",
    "T0 = 1.0  # Left boundary condition\n",
    "TN = 4.0  # Right boundary condition\n",
    "\n",
    "u = jnp.linspace(T0, TN, Nx + 1)  # Initial guess (linearly interpolating between the boundary conditions)\n",
    "\n",
    "x = jnp.linspace(0, L, Nx + 1)  # Grid points\n",
    "dx = x[1] - x[0]  # Grid spacing\n",
    "qVec = q(x, L)  # Source term\n",
    "\n",
    "r = computeResidual(u, qVec, kappa, dx)  # Compute the residual\n",
    "print(f\"Residual norm: {jnp.linalg.norm(r):.2e}\")"
   ]
  },
  {
   "cell_type": "markdown",
   "metadata": {},
   "source": [
    "Surprisingly enough, it's not zero, so we need to solve the equations.\n",
    "\n",
    "The first method we will use is the Jacobi iteration. In a Jacobi iteration, we update each node in the grid by rearranging the finite difference equation to solve for $T_i$:\n",
    "\n",
    "$$T_{i,new} = $$"
   ]
  },
  {
   "cell_type": "code",
   "execution_count": null,
   "metadata": {},
   "outputs": [],
   "source": [
    "def jacobiStep(u, q, kappa, dx):\n",
    "    \"\"\"Perform one Jacobi step\n",
    "\n",
    "    Parameters\n",
    "    ----------\n",
    "    u : jax.numpy.ndarray\n",
    "        Current state vector\n",
    "    q : jax.numpy.ndarray\n",
    "        Source term vector\n",
    "    kappa : float\n",
    "        Thermal conductivity\n",
    "    dx : float\n",
    "        Grid spacing\n",
    "\n",
    "    Returns\n",
    "    -------\n",
    "    jax.numpy.ndarray\n",
    "        Updated state vector\n",
    "    \"\"\"\n",
    "    dx2 = dx**2\n",
    "    uNew = jnp.zeros_like(u)\n",
    "    for ii in range(1, len(x) - 1):\n",
    "        uNew = uNew.at[ii].set(0.5 * (u[ii - 1] + u[ii + 1] + dx2 * q[ii]) / kappa)\n",
    "\n",
    "    return uNew"
   ]
  }
 ],
 "metadata": {
  "kernelspec": {
   "display_name": "AE523",
   "language": "python",
   "name": "python3"
  },
  "language_info": {
   "codemirror_mode": {
    "name": "ipython",
    "version": 3
   },
   "file_extension": ".py",
   "mimetype": "text/x-python",
   "name": "python",
   "nbconvert_exporter": "python",
   "pygments_lexer": "ipython3",
   "version": "3.11.4"
  },
  "orig_nbformat": 4
 },
 "nbformat": 4,
 "nbformat_minor": 2
}
