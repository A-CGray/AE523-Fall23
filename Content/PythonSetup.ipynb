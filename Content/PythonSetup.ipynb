{
 "cells": [
  {
   "cell_type": "markdown",
   "metadata": {},
   "source": [
    "# Getting Started with Python\n"
   ]
  },
  {
   "cell_type": "markdown",
   "metadata": {},
   "source": [
    "\n",
    "## Installing Python\n",
    "\n",
    "There are multiple ways to get a working python installation on your computer, depending on whether you're using Windows, Mac, or Linux.\n",
    "\n",
    "The first option is to install standard python, which you can download [here](https://www.python.org/downloads/).\n",
    "\n",
    "The second option is to install [Anaconda](https://docs.anaconda.com/free/anaconda/install/), which comes with a bunch of extra packages and tools that can be useful for scientific computing.\n",
    "\n",
    "Personally, I don't use Anaconda as I prefer to have more control over what I install, but both options are popular.\n",
    "\n",
    "### Resources\n",
    "\n",
    "- [Installing python from the windows store](https://learn.microsoft.com/en-us/windows/python/beginners#install-python)"
   ]
  },
  {
   "cell_type": "markdown",
   "metadata": {},
   "source": [
    "## Installing an IDE\n",
    "\n",
    "An IDE is basically a text editor combined with some additional tools that allow you to run and debug your code.\n",
    "My IDE of choice is [VSCode](https://code.visualstudio.com/).\n",
    "Two other popular IDEs are [PyCharm](https://www.jetbrains.com/pycharm/) and [Spyder](https://www.spyder-ide.org/), both of these are more specifically designed for python programming.\n",
    "\n",
    "```{tip}\n",
    "Whatever IDE you choose, make sure you learn how to use it's python debugger.\n",
    "A debugger will allow you to pause the program at a specific point and then step through the code line by line and inspect the values of variables.\n",
    "Debugging this way is much more efficient than using print statements.\n",
    "```\n",
    "\n",
    "```{tip}\n",
    "You should also learn to use some of the keyboard shortcuts for your IDE.\n",
    "Different IDEs have different shortcuts that will make your editing experience easier by allowing you to quickly do things like rename a variable everywhere it appears in your code, comment and uncomment large blocks of code, and create multiple cursors to edit multiple lines at once.\n",
    "\n",
    "VSCode has some walkthroughs of these features that should show up the first time you open it.\n",
    "```\n",
    "\n",
    "### Resources\n",
    "\n",
    "- [Getting Started with Python in VS Code](https://code.visualstudio.com/docs/python/python-tutorial)\n",
    "- [Very extensive (but a little old) video on using VSCode for python](https://www.youtube.com/watch?v=-nh9rCzPJ20)\n",
    "- [Spyder video tutorial series](https://www.youtube.com/playlist?list=PLPonohdiDqg9epClEcXoAPUiK0pN5eRoc)\n",
    "- [Getting started with PyCharm video series](https://www.youtube.com/playlist?list=PLCTHcU1KoD98IeuVcqJ2rt1FNytfR_C90)"
   ]
  },
  {
   "cell_type": "markdown",
   "metadata": {},
   "source": [
    "## Installing Packages\n",
    "\n",
    "Most python packages are installed through **pip** the default python package manager.\n",
    "You can install packages by running `pip install <package name>` in the terminal.\n",
    "If you installed python using anaconda/conda, you can also install packages using `conda install <package name>`, but not everything you can install with pip is available through conda.\n",
    "You can also `pip install` things if you use conda, but make sure you have run `conda install pip` in the relevant environment first.\n",
    "\n",
    "### tl;dr\n",
    "\n",
    "To install the primary packages you'll need for this course, run the following in the terminal:\n",
    "\n",
    "```shell\n",
    "pip install --upgrade pip\n",
    "pip install numpy scipy jaxlib jax[cpu] matplotlib niceplots\n",
    "```"
   ]
  },
  {
   "cell_type": "markdown",
   "metadata": {},
   "source": [
    "### [NumPy](https://numpy.org/doc/stable/)\n",
    "\n",
    "NumPy is **THE**  standard for dealing with vectors, matrices, and multidimensional arrays in python."
   ]
  },
  {
   "cell_type": "code",
   "execution_count": 3,
   "metadata": {},
   "outputs": [
    {
     "name": "stdout",
     "output_type": "stream",
     "text": [
      "A=array([[0.14382359, 0.06191592, 0.1582762 , 0.23834217, 0.19123906],\n",
      "       [0.45286671, 0.81865063, 0.84578892, 0.37549802, 0.27613068],\n",
      "       [0.07686977, 0.610526  , 0.2256354 , 0.8871829 , 0.72041712],\n",
      "       [0.30465267, 0.94229208, 0.73781872, 0.06551292, 0.95224939],\n",
      "       [0.72923378, 0.60813262, 0.72313406, 0.54934468, 0.28519394]])\n",
      "\n",
      "b=array([0.35112872, 0.69013263, 0.66117499, 0.2674646 , 0.86094489])\n",
      "\n",
      "x=array([ 0.00743417, -0.68265235,  1.05531739,  0.88470428,  0.07546887])\n",
      "\n",
      "Linear system solution error norm = 2.220446049250313e-16\n"
     ]
    }
   ],
   "source": [
    "import numpy as np\n",
    "\n",
    "# Create a random linear system (Ax=b) and solve it\n",
    "N = 5\n",
    "A = np.random.rand(N, N)\n",
    "b = np.random.rand(N)\n",
    "x = np.linalg.solve(A, b)\n",
    "\n",
    "print(f\"{A=}\\n\")\n",
    "print(f\"{b=}\\n\")\n",
    "print(f\"{x=}\\n\")\n",
    "\n",
    "# Check that the solution is correct\n",
    "diff = A @ x - b  # @ is the matrix multiplication operator\n",
    "print(f\"Linear system solution error norm = {np.linalg.norm(diff)}\")"
   ]
  },
  {
   "cell_type": "markdown",
   "metadata": {},
   "source": [
    "### [JAX](https://jax.readthedocs.io/en/latest/index.html)\n",
    "\n",
    "JAX is a library that does many things useful for machine learning.\n",
    "Most importantly for this course, it has a module that allows you to compute derivatives through NumPy-like code.\n",
    "[here](https://github.com/google/jax#pip-installation-cpu)"
   ]
  },
  {
   "cell_type": "code",
   "execution_count": 6,
   "metadata": {},
   "outputs": [
    {
     "name": "stdout",
     "output_type": "stream",
     "text": [
      "x=Array([0.        , 0.69813174, 1.3962635 , 2.0943952 , 2.792527  ,\n",
      "       3.4906588 , 4.1887903 , 4.8869224 , 5.585054  , 6.2831855 ],      dtype=float32)\n",
      "\n",
      "y=Array(0.742495, dtype=float32)\n",
      "\n",
      "dydx=Array([ 0.01439827, -0.01306541, -0.02845956,  0.07103436,  0.1409933 ,\n",
      "       -0.46274623, -1.7529042 , -1.070204  ,  4.2873783 ,  7.642982  ],      dtype=float32)\n",
      "\n"
     ]
    }
   ],
   "source": [
    "import jax.numpy as jnp\n",
    "from jax import grad\n",
    "\n",
    "\n",
    "# Define a function that does some stuff with arrays\n",
    "def func(x):\n",
    "    return jnp.sum(jnp.exp(x) * (jnp.sin(x) + jnp.cos(2 * x))) / jnp.sum(x**2)\n",
    "\n",
    "\n",
    "func_gradient = grad(func)\n",
    "\n",
    "x = jnp.linspace(0, 2 * jnp.pi, 10)\n",
    "y = func(x)\n",
    "dydx = func_gradient(x)\n",
    "\n",
    "print(f\"{x=}\\n\")\n",
    "print(f\"{y=}\\n\")\n",
    "print(f\"{dydx=}\\n\")"
   ]
  },
  {
   "cell_type": "markdown",
   "metadata": {},
   "source": [
    "### [SciPy](https://docs.scipy.org/doc/scipy/)\n",
    "\n",
    "SciPy contains a bunch of more complex scientific computing algorithms for things like root finding, optimization, solving ODE's, and sparse linear algebra."
   ]
  },
  {
   "cell_type": "code",
   "execution_count": null,
   "metadata": {},
   "outputs": [],
   "source": []
  },
  {
   "cell_type": "markdown",
   "metadata": {},
   "source": [
    "### [Matplotlib](https://matplotlib.org/)\n",
    "\n",
    "The standard plotting library for python.\n",
    "It has a lot of functionality and excellent documentation.\n",
    "\n",
    "```{tip}\n",
    "If you're a Matlab user, you may be used to plotting simply by calling the `plot` function, and switching between different figures using the `figure` function.\n",
    "It is possible to use a similar approach in Matplotlib, but I'd recommend that you instead use the approach used in the [matplotlib examples](https://matplotlib.org/stable/users/getting_started/) where you first create figure and axis objects and then call the plot methods of the axis.\n",
    "This makes it much clearer in your code which data is being plotted on which figure."
   ]
  },
  {
   "cell_type": "code",
   "execution_count": null,
   "metadata": {},
   "outputs": [],
   "source": []
  },
  {
   "cell_type": "markdown",
   "metadata": {},
   "source": [
    "### NicePlots\n",
    "\n",
    "NicePlots is a little package I helped write with my labmates that we use to make our Matplotlib plots look nicer.\n",
    "It is not at all necessary for the course, but if you do want to use it you can pip install it just like all the other packages mentioned already.\n",
    "You can also check out some example uses of it [here](https://mdolab-niceplots.readthedocs-hosted.com/en/latest/auto_examples/index.html)."
   ]
  },
  {
   "cell_type": "code",
   "execution_count": null,
   "metadata": {},
   "outputs": [],
   "source": []
  },
  {
   "cell_type": "markdown",
   "metadata": {},
   "source": [
    "## Learning python\n",
    "\n",
    "- [NumPy fundamentals](https://numpy.org/doc/stable/user/basics.html)\n",
    "- [NumPy guide for Matlab users](https://numpy.org/doc/stable/user/numpy-for-matlab-users.html)\n",
    "- [Example code working with NumPy arrays](https://numpy.org/numpy-tutorials/content/tutorial-static_equilibrium.html)"
   ]
  }
 ],
 "metadata": {
  "kernelspec": {
   "display_name": "AE523",
   "language": "python",
   "name": "python3"
  },
  "language_info": {
   "codemirror_mode": {
    "name": "ipython",
    "version": 3
   },
   "file_extension": ".py",
   "mimetype": "text/x-python",
   "name": "python",
   "nbconvert_exporter": "python",
   "pygments_lexer": "ipython3",
   "version": "3.11.3"
  },
  "orig_nbformat": 4
 },
 "nbformat": 4,
 "nbformat_minor": 2
}
